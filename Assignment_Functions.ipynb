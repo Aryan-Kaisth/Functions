{
  "nbformat": 4,
  "nbformat_minor": 0,
  "metadata": {
    "colab": {
      "provenance": []
    },
    "kernelspec": {
      "name": "python3",
      "display_name": "Python 3"
    },
    "language_info": {
      "name": "python"
    }
  },
  "cells": [
    {
      "cell_type": "markdown",
      "source": [
        "**Question 1**"
      ],
      "metadata": {
        "id": "8cpdx1LH3aUa"
      }
    },
    {
      "cell_type": "code",
      "source": [
        "def sum_of_evens(l):\n",
        "    # Initialize sum variable to store the sum of even numbers\n",
        "    total = 0\n",
        "\n",
        "    # Iterate through each number in the list\n",
        "    for i in l:\n",
        "        # Check if the number is even\n",
        "        if i % 2 == 0:\n",
        "            # Add the even number to the total sum\n",
        "            total += i\n",
        "\n",
        "    # Return the sum of even numbers\n",
        "    return total\n",
        "sum_of_evens([1,2,3,4,5,6,7,8])"
      ],
      "metadata": {
        "colab": {
          "base_uri": "https://localhost:8080/"
        },
        "id": "Ccgb2HxE6nc7",
        "outputId": "f5d96a7e-a68f-4c4d-8942-4fcb1fd69e4a"
      },
      "execution_count": 50,
      "outputs": [
        {
          "output_type": "execute_result",
          "data": {
            "text/plain": [
              "20"
            ]
          },
          "metadata": {},
          "execution_count": 50
        }
      ]
    },
    {
      "cell_type": "markdown",
      "source": [
        "**Question 2**"
      ],
      "metadata": {
        "id": "vS4y0VmQ7ZDz"
      }
    },
    {
      "cell_type": "code",
      "source": [
        "# defining a function\n",
        "def reverse_str(s):\n",
        "# It will reverse the string\n",
        "  return s[::-1]\n",
        "reverse_str(\"hello World\")"
      ],
      "metadata": {
        "colab": {
          "base_uri": "https://localhost:8080/",
          "height": 36
        },
        "id": "aavdsO2-7YUC",
        "outputId": "eb888c89-a973-4b6a-ed2d-33df4cf3eb0c"
      },
      "execution_count": 49,
      "outputs": [
        {
          "output_type": "execute_result",
          "data": {
            "text/plain": [
              "'dlroW olleh'"
            ],
            "application/vnd.google.colaboratory.intrinsic+json": {
              "type": "string"
            }
          },
          "metadata": {},
          "execution_count": 49
        }
      ]
    },
    {
      "cell_type": "markdown",
      "source": [
        "**Question 3**"
      ],
      "metadata": {
        "id": "2AhbM4OS84HJ"
      }
    },
    {
      "cell_type": "code",
      "source": [
        "def square(n):\n",
        "  new_list=[] # Created an empty list to put square of each item\n",
        "  for i in n:\n",
        "    new_list.append(i**2) # Append will add the square of item in new_list\n",
        "  return new_list\n",
        "\n",
        "square([1,2,3,4,5,8])"
      ],
      "metadata": {
        "colab": {
          "base_uri": "https://localhost:8080/"
        },
        "id": "INPGlWzN85Sh",
        "outputId": "adb8879c-86ff-4f50-b947-bcd5b8121c59"
      },
      "execution_count": 48,
      "outputs": [
        {
          "output_type": "execute_result",
          "data": {
            "text/plain": [
              "[1, 4, 9, 16, 25, 64]"
            ]
          },
          "metadata": {},
          "execution_count": 48
        }
      ]
    },
    {
      "cell_type": "markdown",
      "source": [
        "**Question 4 (Easy and easy Approach)**"
      ],
      "metadata": {
        "id": "0ZIpP9gCbpmI"
      }
    },
    {
      "cell_type": "code",
      "source": [
        "def prime_or_not(num):\n",
        "    if num <= 1:\n",
        "      return \"not a prime\"  # Numbers less than or equal to 1 are not prime\n",
        "    for i in range(2, num):\n",
        "        if num % i == 0:\n",
        "            return \"not a prime\"  # num is divisible by i, so it's not prime\n",
        "    return \"prime\"  # If no divisors were found, num is prime\n",
        "\n",
        "def check_prime_in_range(num):\n",
        "  if 1 <= num <= 200:\n",
        "    return prime_or_not(num)\n",
        "  else:\n",
        "    return \"Number out of range\"  # Handle numbers outside the range\n",
        "\n",
        "# Test the function\n",
        "check_prime_in_range(67)\n"
      ],
      "metadata": {
        "colab": {
          "base_uri": "https://localhost:8080/",
          "height": 36
        },
        "id": "gVuTfmy7btx4",
        "outputId": "002882fc-8213-4a4b-8f95-a498d1fdb5d4"
      },
      "execution_count": 47,
      "outputs": [
        {
          "output_type": "execute_result",
          "data": {
            "text/plain": [
              "'prime'"
            ],
            "application/vnd.google.colaboratory.intrinsic+json": {
              "type": "string"
            }
          },
          "metadata": {},
          "execution_count": 47
        }
      ]
    },
    {
      "cell_type": "markdown",
      "source": [
        "**Question 4 (Long Approach)**"
      ],
      "metadata": {
        "id": "-QbWvijkO-Qh"
      }
    },
    {
      "cell_type": "code",
      "source": [
        "def prime_or_not(num):\n",
        "    \"\"\"\n",
        "    Check if a number is prime.\n",
        "\n",
        "    Parameters:\n",
        "    num (int): The number to check.\n",
        "\n",
        "    Returns:\n",
        "    str: \"prime\" if the number is prime, \"not a prime\" otherwise.\n",
        "    \"\"\"\n",
        "    # Numbers less than or equal to 1 are not prime\n",
        "    if num <= 1:\n",
        "        return \"not a prime\"\n",
        "\n",
        "    # 2 and 3 are prime numbers\n",
        "    if num <= 3:\n",
        "        return \"prime\"\n",
        "\n",
        "    # Exclude multiples of 2 and 3\n",
        "    if num % 2 == 0 or num % 3 == 0:\n",
        "        return \"not a prime\"\n",
        "\n",
        "    # Check for factors from 5 to sqrt(num)\n",
        "    # Use i and i + 2 to cover the pattern 6k ± 1\n",
        "    i = 5\n",
        "    while i * i <= num:\n",
        "        # If num is divisible by i or i + 2, it's not prime\n",
        "        if num % i == 0 or num % (i + 2) == 0:\n",
        "            return \"not a prime\"\n",
        "        i += 6  # Increment to check next possible factors in the 6k ± 1 pattern\n",
        "\n",
        "    # If no factors found, num is prime\n",
        "    return \"prime\"\n",
        "\n",
        "def check_prime_in_range(num):\n",
        "    \"\"\"\n",
        "    To check if a number is within the valid range and determine if it's prime.\n",
        "    \"\"\"\n",
        "    # Check if the number is within the range of 1 to 200\n",
        "    if 1 <= num <= 200:\n",
        "        return prime_or_not(num)\n",
        "    else:\n",
        "        # Handle numbers outside the range\n",
        "        return \"Number out of range\"\n",
        "\n",
        "# Test the function with sample inputs\n",
        "print(check_prime_in_range(3))    # Should output \"prime\" because 5 is a prime number\n",
        "print(check_prime_in_range(197))  # Should output \"not a prime\" because 200 is not a prime number\n",
        "print(check_prime_in_range(201))    # Should output \"not a prime\" because 1 is not a prime number\n"
      ],
      "metadata": {
        "colab": {
          "base_uri": "https://localhost:8080/"
        },
        "id": "ix1Ift7pPHAh",
        "outputId": "16c19298-896f-4ea7-d50b-babaaeb4ba1b"
      },
      "execution_count": 44,
      "outputs": [
        {
          "output_type": "stream",
          "name": "stdout",
          "text": [
            "prime\n",
            "prime\n",
            "Number out of range\n"
          ]
        }
      ]
    },
    {
      "cell_type": "markdown",
      "source": [
        "**Question 5**"
      ],
      "metadata": {
        "id": "Pbk4vXnRXAKv"
      }
    },
    {
      "cell_type": "code",
      "source": [
        "class Fibonacci:\n",
        "    def __init__(x, num_terms):\n",
        "        x.num_terms = num_terms\n",
        "        x.current_term = 0\n",
        "        x.a, x.b = 0, 1\n",
        "\n",
        "    def __iter__(x):\n",
        "        return x\n",
        "\n",
        "    def __next__(x):\n",
        "        if x.current_term >= x.num_terms:\n",
        "            raise StopIteration\n",
        "\n",
        "        if x.current_term == 0:\n",
        "            x.current_term += 1\n",
        "            return x.a\n",
        "\n",
        "        if x.current_term == 1:\n",
        "            x.current_term += 1\n",
        "            return x.b\n",
        "\n",
        "        x.a, x.b = x.b, x.a + x.b\n",
        "        x.current_term += 1\n",
        "        return x.b\n",
        "\n",
        "# Example usage\n",
        "fibo_sequence = Fibonacci(10)\n",
        "\n",
        "for number in fibo_sequence:\n",
        "    print(number)\n"
      ],
      "metadata": {
        "colab": {
          "base_uri": "https://localhost:8080/"
        },
        "id": "hP8VFpo4Z1cx",
        "outputId": "93213abf-7928-415f-c3d6-41d57aaa0239"
      },
      "execution_count": 43,
      "outputs": [
        {
          "output_type": "stream",
          "name": "stdout",
          "text": [
            "0\n",
            "1\n",
            "1\n",
            "2\n",
            "3\n",
            "5\n",
            "8\n",
            "13\n",
            "21\n",
            "34\n"
          ]
        }
      ]
    },
    {
      "cell_type": "markdown",
      "source": [
        "**Question 6**"
      ],
      "metadata": {
        "id": "UWNDNm3EWkkh"
      }
    },
    {
      "cell_type": "code",
      "source": [
        "def powers_of_two(e):\n",
        "    # Iterate from 0 to max_exponent (inclusive)\n",
        "    for exponent in range(e+1): # e+1 because last number is excluded\n",
        "        yield 2 ** exponent\n",
        "gen = powers_of_two(5)\n",
        "next(gen)\n",
        "next(gen)\n",
        "next(gen)\n",
        "next(gen)\n",
        "next(gen)"
      ],
      "metadata": {
        "colab": {
          "base_uri": "https://localhost:8080/"
        },
        "id": "HhBeYwU-T--D",
        "outputId": "2eb4a7c0-a309-4a0a-d0fa-3efdb2f3202a"
      },
      "execution_count": 42,
      "outputs": [
        {
          "output_type": "execute_result",
          "data": {
            "text/plain": [
              "16"
            ]
          },
          "metadata": {},
          "execution_count": 42
        }
      ]
    },
    {
      "cell_type": "markdown",
      "source": [
        "**Question 7**"
      ],
      "metadata": {
        "id": "ZhCTmJQEmyjH"
      }
    },
    {
      "cell_type": "code",
      "source": [
        "'''In google colab you can upload a file using the following code:\n",
        "\n",
        "from google.colab import files\n",
        "uploaded = files.upload()'''\n",
        "\n",
        "def read_file_line_by_line(file_path):\n",
        "    with open(file_path, 'r') as file: # Here it will give an error becuase in google colab can't access your computer files directly\n",
        "        for line in file: # \"r\" is used to read a file its selected by default\n",
        "            yield line.strip()  # yields each line without trailing newline characters\n",
        "file_path = 'example.txt' # its just an example\n",
        "\n",
        "for line in read_file_line_by_line(file_path):\n",
        "    print(line)"
      ],
      "metadata": {
        "id": "kux0SU3NJYsi"
      },
      "execution_count": null,
      "outputs": []
    },
    {
      "cell_type": "markdown",
      "source": [
        "**Question 8**"
      ],
      "metadata": {
        "id": "C_QSPsYZRHj-"
      }
    },
    {
      "cell_type": "code",
      "source": [
        "students = [(\"Alice\", 36, \"Biology\"),(\"Bob\", 14, \"Mathematics\"),(\"Charlie\", 24, \"Physics\"),(\"Diana\", 23, \"Chemistry\")] # List of tuples of students\n",
        "sort=lambda student: student[1] # Lambda function to sort by 2nd element of each tuple\n",
        "sorted(students,key=sort) # Setting up a custom key"
      ],
      "metadata": {
        "colab": {
          "base_uri": "https://localhost:8080/"
        },
        "id": "vbjvEWG5m2ZB",
        "outputId": "24300586-2dd2-4b6f-cb59-3109761a2d47"
      },
      "execution_count": 41,
      "outputs": [
        {
          "output_type": "execute_result",
          "data": {
            "text/plain": [
              "[('Bob', 14, 'Mathematics'),\n",
              " ('Diana', 23, 'Chemistry'),\n",
              " ('Charlie', 24, 'Physics'),\n",
              " ('Alice', 36, 'Biology')]"
            ]
          },
          "metadata": {},
          "execution_count": 41
        }
      ]
    },
    {
      "cell_type": "markdown",
      "source": [
        "**Question 9**"
      ],
      "metadata": {
        "id": "jzGsnjEE91UK"
      }
    },
    {
      "cell_type": "code",
      "source": [
        "def celsius2fahrenheit(temp):\n",
        "    # Convert Celsius to Fahrenheit\n",
        "    return (temp * 9 / 5) + 32\n",
        "\n",
        "# List of temperatures in Celsius\n",
        "celsius = [25, 30, 35, 40]\n",
        "\n",
        "# Map the celsius2fahrenheit function to each temperature in the list\n",
        "Celsius_to_Fahrenheit = map(celsius2fahrenheit, celsius)\n",
        "\n",
        "# Convert the map object to a list and print the result\n",
        "print(list(Celsius_to_Fahrenheit))\n"
      ],
      "metadata": {
        "colab": {
          "base_uri": "https://localhost:8080/"
        },
        "id": "3whTOrt5C1LD",
        "outputId": "dfd6a0ea-4823-4ee9-9c44-644c492b00a0"
      },
      "execution_count": 40,
      "outputs": [
        {
          "output_type": "stream",
          "name": "stdout",
          "text": [
            "[77.0, 86.0, 95.0, 104.0]\n"
          ]
        }
      ]
    },
    {
      "cell_type": "markdown",
      "source": [
        "**Question 10**"
      ],
      "metadata": {
        "id": "m64J0KTFG-dW"
      }
    },
    {
      "cell_type": "code",
      "source": [
        "def remove_vowels(s):\n",
        "    # Define vowels\n",
        "    vowels = 'aeiouAEIOU'\n",
        "\n",
        "    # Use filter with a lambda function to exclude vowels\n",
        "    filtered_chars = filter(lambda x: x not in vowels, s)\n",
        "\n",
        "    # Join filtered characters to form the result string\n",
        "    result = ''.join(filtered_chars)\n",
        "\n",
        "    return result\n",
        "\n",
        "remove_vowels(\"hello world\")  # Output: \"hll wrld\"\n"
      ],
      "metadata": {
        "colab": {
          "base_uri": "https://localhost:8080/",
          "height": 36
        },
        "id": "fDzEk0WYHBTE",
        "outputId": "81264919-0ff4-45f7-d711-037061dd2e38"
      },
      "execution_count": 39,
      "outputs": [
        {
          "output_type": "execute_result",
          "data": {
            "text/plain": [
              "'hll wrld'"
            ],
            "application/vnd.google.colaboratory.intrinsic+json": {
              "type": "string"
            }
          },
          "metadata": {},
          "execution_count": 39
        }
      ]
    },
    {
      "cell_type": "markdown",
      "source": [
        "**Question 11**"
      ],
      "metadata": {
        "id": "NMcBuyIhJczD"
      }
    },
    {
      "cell_type": "code",
      "source": [
        "# List of orders (order number, book title and author, quantity, price per item)\n",
        "orders = [\n",
        "    [34587, \"learning python, mark lutz\", 4, 40.95],\n",
        "    [98762, \"programming python, mark lutz\", 5, 56.80],\n",
        "    [77226, \"head first python, paul barry\", 3, 32.95],\n",
        "    [88112, \"Einfuhrung in python3, bernd klein\", 3, 24.99]\n",
        "]\n",
        "\n",
        "# Lambda function to calculate the total cost, applying the 10€ rule\n",
        "order_total = list(map(lambda x: (x[0], x[2] * x[3] if x[2] * x[3] >= 100 else x[2] * x[3] + 10), orders))\n",
        "\n",
        "# Print the result\n",
        "print(order_total)\n",
        "# You can see for 3rd and 4th book it added 10€\n"
      ],
      "metadata": {
        "colab": {
          "base_uri": "https://localhost:8080/"
        },
        "id": "T_pnFXYoJfyV",
        "outputId": "97561ae1-5aa2-42c8-e933-23675e8e2b8d"
      },
      "execution_count": 37,
      "outputs": [
        {
          "output_type": "stream",
          "name": "stdout",
          "text": [
            "[(34587, 163.8), (98762, 284.0), (77226, 108.85000000000001), (88112, 84.97)]\n"
          ]
        }
      ]
    }
  ]
}